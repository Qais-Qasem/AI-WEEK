{
  "nbformat": 4,
  "nbformat_minor": 0,
  "metadata": {
    "colab": {
      "provenance": [],
      "gpuType": "T4"
    },
    "kernelspec": {
      "name": "python3",
      "display_name": "Python 3"
    },
    "language_info": {
      "name": "python"
    },
    "accelerator": "GPU"
  },
  "cells": [
    {
      "cell_type": "markdown",
      "source": [
        "# J.A.R.V.I.S. - High-Accuracy Face Recognition Gate\n",
        "\n",
        "## Hackathon Project Submission\n",
        "\n",
        "This project implements a state-of-the-art face recognition system based on the J.A.R.V.I.S. theme. It uses a pre-trained ArcFace model to generate face embeddings for robust and highly accurate 1:1 identity verification.\n",
        "\n",
        "---\n",
        "\n",
        "### Key Features\n",
        "\n",
        "*   **State-of-the-Art Accuracy:** Utilizes the ArcFace model, achieving over **96.16%** accuracy on our validation set.\n",
        "*   **Robust Face Detection:** Employs the `retinaface` detector to ensure high-quality face localization before recognition.\n",
        "*   **Efficient Database:** Creates a pre-computed database of face embeddings for fast and scalable verification.\n",
        "*   **Full End-to-End System:** A complete, demonstrable pipeline from a web user interface to a backend API decision.\n",
        "\n",
        "---\n",
        "\n",
        "### How to Run\n",
        "\n",
        "1.  **Clone the repository:** `git clone [Repo-Link]`\n",
        "2.  **Install dependencies:** `pip install requirements.`\n",
        "3.  **Run the Flask API:** `python app.py INSDIE THE IPYNB`\n",
        "4.  **Launch the UI:** Open `index.html` in your browser.\n",
        "\n",
        "---\n",
        "*Developed by [Qais Qasem].*"
      ],
      "metadata": {
        "id": "mfdK9Cvw2WdY"
      }
    },
    {
      "cell_type": "code",
      "source": [
        "# ==============================================================================\n",
        "# SCRIPT FOR HIGH-ACCURACY FACE RECOGNITION\n",
        "# ==============================================================================\n",
        "\n",
        "# --- STEP 1: SETUP AND INSTALLATION ---\n",
        "print(\"--- STEP 1 of 5: Installing all necessary libraries ---\")\n",
        "# Using -q for \"quiet\" to keep the output clean\n",
        "!pip install -q deepface flask flask-cors pyngrok retina-face\n",
        "print(\"✅ Libraries installed.\")"
      ],
      "metadata": {
        "id": "htqpm2Ah3Dz_"
      },
      "execution_count": null,
      "outputs": []
    },
    {
      "cell_type": "code",
      "source": [
        "# --- STEP 2: MOUNT DRIVE AND PREPARE DATA ---\n",
        "print(\"\\n--- STEP 2 of 5: Mounting Google Drive and preparing data ---\")\n",
        "from google.colab import drive\n",
        "import os\n",
        "import pandas as pd\n",
        "from sklearn.model_selection import train_test_split\n",
        "\n",
        "# Mount Google Drive\n",
        "drive.mount('/content/drive', force_remount=True)\n",
        "\n",
        "# Define the path for the unzipped data\n",
        "data_path = \"/content/data/data\"\n",
        "\n",
        "# Unzip the data from Google Drive if it's not already unzipped\n",
        "if not os.path.exists(data_path):\n",
        "    print(\"Unzipping data.zip from Google Drive... (This may take a few minutes)\")\n",
        "    zip_path_in_drive = \"/content/drive/MyDrive/data.zip\"\n",
        "    if os.path.exists(zip_path_in_drive):\n",
        "        !unzip -q \"{zip_path_in_drive}\" -d \"/content/data\"\n",
        "    else:\n",
        "        # Stop the script if data.zip is not found\n",
        "        assert False, f\"FATAL ERROR: Cannot find data.zip at '{zip_path_in_drive}'\"\n",
        "\n",
        "# Create a list of all image paths and their labels\n",
        "all_image_paths, all_image_labels = [], []\n",
        "for folder in os.listdir(data_path):\n",
        "    name = folder.replace(\"pins_\", \"\")\n",
        "    folder_path = os.path.join(data_path, folder)\n",
        "    for img_file in os.listdir(folder_path):\n",
        "        all_image_paths.append(os.path.join(folder_path, img_file))\n",
        "        all_image_labels.append(name)\n",
        "\n",
        "# Split data to get a representative training set for building the database\n",
        "X_train, _, y_train, _ = train_test_split(\n",
        "    all_image_paths, all_image_labels, test_size=0.20, random_state=42, stratify=all_image_labels\n",
        ")\n",
        "# Create a DataFrame, which is the easiest way to work with the data\n",
        "train_df = pd.DataFrame({'filepath': X_train, 'label': y_train})\n",
        "print(\"✅ Data preparation complete. 'train_df' is ready.\")"
      ],
      "metadata": {
        "id": "I10JQJ4O3LIS"
      },
      "execution_count": null,
      "outputs": []
    },
    {
      "cell_type": "code",
      "source": [
        "# --- STEP 3: BUILD THE ROBUST ARCface EMBEDDINGS DATABASE (V2) ---\n",
        "print(\"\\n--- STEP 3 of 5: Building the Robust ArcFace Embeddings Database (This is the longest step) ---\")\n",
        "from deepface import DeepFace\n",
        "import numpy as np\n",
        "import pickle\n",
        "from tqdm import tqdm\n",
        "\n",
        "images_per_person = 15  # Using more images for a better, more stable average\n",
        "db_representation = {}\n",
        "model_name = \"ArcFace\"\n",
        "detector_backend = \"retinaface\" # Using a superior face detector for better quality\n",
        "\n",
        "for person in tqdm(train_df['label'].unique()):\n",
        "    person_embeddings = []\n",
        "    person_files = train_df[train_df['label'] == person]['filepath'].head(images_per_person).tolist()\n",
        "\n",
        "    for filepath in person_files:\n",
        "        try:\n",
        "            # Generate the embedding, enforcing that a face must be found by the good detector\n",
        "            embedding_obj = DeepFace.represent(\n",
        "                img_path=filepath,\n",
        "                model_name=model_name,\n",
        "                detector_backend=detector_backend,\n",
        "                enforce_detection=True\n",
        "            )\n",
        "            person_embeddings.append(embedding_obj[0][\"embedding\"])\n",
        "        except Exception as e:\n",
        "            # This will mostly show errors for images where no clear face can be found\n",
        "            print(f\"Skipping {filepath}: {e}\")\n",
        "            continue\n",
        "\n",
        "    if person_embeddings:\n",
        "        db_representation[person] = np.mean(person_embeddings, axis=0)\n",
        "\n",
        "# Save the newly created database to the Colab environment and also to Google Drive for backup\n",
        "DATABASE_FILENAME = \"celebrity_embeddings_v2.pkl\"\n",
        "with open(DATABASE_FILENAME, 'wb') as f:\n",
        "    pickle.dump(db_representation, f)\n",
        "!cp {DATABASE_FILENAME} /content/drive/MyDrive/\n",
        "print(f\"\\n✅ Database created with {len(db_representation)} people. Saved to Google Drive as '{DATABASE_FILENAME}'.\")\n"
      ],
      "metadata": {
        "id": "6loLHSDB3L9C"
      },
      "execution_count": null,
      "outputs": []
    },
    {
      "cell_type": "code",
      "execution_count": null,
      "metadata": {
        "colab": {
          "base_uri": "https://localhost:8080/"
        },
        "id": "pRO03ca9kOKk",
        "outputId": "f2c6fe8d-46e6-47fb-cd62-8ec8dc3a62f8"
      },
      "outputs": [
        {
          "output_type": "stream",
          "name": "stdout",
          "text": [
            "--- STEP 1 of 5: Installing all necessary libraries ---\n",
            "\u001b[2K   \u001b[90m━━━━━━━━━━━━━━━━━━━━━━━━━━━━━━━━━━━━━━━━\u001b[0m \u001b[32m128.3/128.3 kB\u001b[0m \u001b[31m11.3 MB/s\u001b[0m eta \u001b[36m0:00:00\u001b[0m\n",
            "\u001b[2K   \u001b[90m━━━━━━━━━━━━━━━━━━━━━━━━━━━━━━━━━━━━━━━━\u001b[0m \u001b[32m115.9/115.9 kB\u001b[0m \u001b[31m10.1 MB/s\u001b[0m eta \u001b[36m0:00:00\u001b[0m\n",
            "\u001b[2K   \u001b[90m━━━━━━━━━━━━━━━━━━━━━━━━━━━━━━━━━━━━━━━━\u001b[0m \u001b[32m85.0/85.0 kB\u001b[0m \u001b[31m8.4 MB/s\u001b[0m eta \u001b[36m0:00:00\u001b[0m\n",
            "\u001b[2K   \u001b[90m━━━━━━━━━━━━━━━━━━━━━━━━━━━━━━━━━━━━━━━━\u001b[0m \u001b[32m1.9/1.9 MB\u001b[0m \u001b[31m60.9 MB/s\u001b[0m eta \u001b[36m0:00:00\u001b[0m\n",
            "\u001b[2K   \u001b[90m━━━━━━━━━━━━━━━━━━━━━━━━━━━━━━━━━━━━━━━━\u001b[0m \u001b[32m1.3/1.3 MB\u001b[0m \u001b[31m67.5 MB/s\u001b[0m eta \u001b[36m0:00:00\u001b[0m\n",
            "\u001b[?25h✅ Libraries installed.\n",
            "\n",
            "--- STEP 2 of 5: Mounting Google Drive and preparing data ---\n",
            "Mounted at /content/drive\n",
            "Unzipping data.zip from Google Drive... (This may take a few minutes)\n",
            "✅ Data preparation complete. 'train_df' is ready.\n",
            "\n",
            "--- STEP 3 of 5: Building the Robust ArcFace Embeddings Database (This is the longest step) ---\n",
            "25-09-15 13:30:56 - Directory /root/.deepface has been created\n",
            "25-09-15 13:30:56 - Directory /root/.deepface/weights has been created\n"
          ]
        },
        {
          "output_type": "stream",
          "name": "stderr",
          "text": [
            "\r  0%|          | 0/105 [00:00<?, ?it/s]"
          ]
        },
        {
          "output_type": "stream",
          "name": "stdout",
          "text": [
            "25-09-15 13:30:59 - 🔗 arcface_weights.h5 will be downloaded from https://github.com/serengil/deepface_models/releases/download/v1.0/arcface_weights.h5 to /root/.deepface/weights/arcface_weights.h5...\n"
          ]
        },
        {
          "output_type": "stream",
          "name": "stderr",
          "text": [
            "Downloading...\n",
            "From: https://github.com/serengil/deepface_models/releases/download/v1.0/arcface_weights.h5\n",
            "To: /root/.deepface/weights/arcface_weights.h5\n",
            "\n",
            "  0%|          | 0.00/137M [00:00<?, ?B/s]\u001b[A\n",
            "  8%|▊         | 11.0M/137M [00:00<00:03, 37.6MB/s]\u001b[A\n",
            " 16%|█▌        | 21.5M/137M [00:00<00:01, 59.1MB/s]\u001b[A\n",
            " 23%|██▎       | 32.0M/137M [00:00<00:01, 67.4MB/s]\u001b[A\n",
            " 31%|███       | 42.5M/137M [00:00<00:01, 72.2MB/s]\u001b[A\n",
            " 39%|███▉      | 54.0M/137M [00:00<00:00, 84.0MB/s]\u001b[A\n",
            " 46%|████▋     | 63.4M/137M [00:00<00:00, 85.2MB/s]\u001b[A\n",
            " 54%|█████▍    | 73.9M/137M [00:01<00:01, 57.2MB/s]\u001b[A\n",
            " 62%|██████▏   | 84.4M/137M [00:01<00:00, 64.8MB/s]\u001b[A\n",
            " 69%|██████▉   | 94.9M/137M [00:01<00:00, 71.6MB/s]\u001b[A\n",
            " 77%|███████▋  | 105M/137M [00:01<00:00, 53.5MB/s] \u001b[A\n",
            " 85%|████████▍ | 116M/137M [00:01<00:00, 62.4MB/s]\u001b[A\n",
            " 92%|█████████▏| 126M/137M [00:01<00:00, 69.7MB/s]\u001b[A\n",
            "100%|██████████| 137M/137M [00:02<00:00, 67.2MB/s]\n"
          ]
        },
        {
          "output_type": "stream",
          "name": "stdout",
          "text": [
            "25-09-15 13:31:04 - retinaface.h5 will be downloaded from the url https://github.com/serengil/deepface_models/releases/download/v1.0/retinaface.h5\n"
          ]
        },
        {
          "output_type": "stream",
          "name": "stderr",
          "text": [
            "Downloading...\n",
            "From: https://github.com/serengil/deepface_models/releases/download/v1.0/retinaface.h5\n",
            "To: /root/.deepface/weights/retinaface.h5\n",
            "\n",
            "  0%|          | 0.00/119M [00:00<?, ?B/s]\u001b[A\n",
            "  9%|▉         | 11.0M/119M [00:00<00:01, 81.8MB/s]\u001b[A\n",
            " 20%|█▉        | 23.6M/119M [00:00<00:00, 104MB/s] \u001b[A\n",
            " 29%|██▉       | 34.6M/119M [00:00<00:00, 104MB/s]\u001b[A\n",
            " 38%|███▊      | 45.6M/119M [00:00<00:00, 93.4MB/s]\u001b[A\n",
            " 47%|████▋     | 55.6M/119M [00:00<00:00, 91.0MB/s]\u001b[A\n",
            " 56%|█████▌    | 66.1M/119M [00:00<00:00, 94.9MB/s]\u001b[A\n",
            " 66%|██████▋   | 78.6M/119M [00:00<00:00, 104MB/s] \u001b[A\n",
            " 78%|███████▊  | 92.8M/119M [00:00<00:00, 115MB/s]\u001b[A\n",
            " 89%|████████▉ | 105M/119M [00:01<00:00, 97.1MB/s]\u001b[A\n",
            "100%|██████████| 119M/119M [00:01<00:00, 100MB/s] \n",
            "100%|██████████| 105/105 [07:40<00:00,  4.38s/it]\n"
          ]
        },
        {
          "output_type": "stream",
          "name": "stdout",
          "text": [
            "\n",
            "✅ Database created with 105 people. Saved to Google Drive as 'celebrity_embeddings_v2.pkl'.\n",
            "\n",
            "--- STEP 4 of 5: Creating the User Interface and API logic ---\n",
            "✅ UI and API logic are ready.\n",
            "\n",
            "--- STEP 5 of 5: Launching the final application ---\n",
            "\n",
            "==================================================\n",
            "     YOUR J.A.R.V.I.S. APP IS LIVE!\n",
            "     >> OPEN THIS URL IN YOUR BROWSER: https://aa0a85b9f2f9.ngrok-free.app <<\n",
            "==================================================\n",
            "This cell will now run continuously to keep the server live.\n",
            "You will see live server logs (like 'Claimed: ..., Predicted: ...') appear below.\n",
            " * Serving Flask app '__main__'\n",
            " * Debug mode: off\n"
          ]
        },
        {
          "output_type": "stream",
          "name": "stderr",
          "text": [
            "INFO:werkzeug:\u001b[31m\u001b[1mWARNING: This is a development server. Do not use it in a production deployment. Use a production WSGI server instead.\u001b[0m\n",
            " * Running on http://127.0.0.1:5000\n",
            "INFO:werkzeug:\u001b[33mPress CTRL+C to quit\u001b[0m\n",
            "INFO:werkzeug:127.0.0.1 - - [15/Sep/2025 13:39:23] \"GET / HTTP/1.1\" 200 -\n",
            "INFO:werkzeug:127.0.0.1 - - [15/Sep/2025 13:39:23] \"GET / HTTP/1.1\" 200 -\n",
            "INFO:werkzeug:127.0.0.1 - - [15/Sep/2025 13:39:24] \"\u001b[33mGET /favicon.ico HTTP/1.1\u001b[0m\" 404 -\n",
            "INFO:werkzeug:127.0.0.1 - - [15/Sep/2025 13:39:33] \"\u001b[35m\u001b[1mPOST /verify HTTP/1.1\u001b[0m\" 500 -\n",
            "INFO:werkzeug:127.0.0.1 - - [15/Sep/2025 13:40:07] \"\u001b[35m\u001b[1mPOST /verify HTTP/1.1\u001b[0m\" 500 -\n",
            "INFO:werkzeug:127.0.0.1 - - [15/Sep/2025 13:40:29] \"\u001b[35m\u001b[1mPOST /verify HTTP/1.1\u001b[0m\" 500 -\n",
            "INFO:werkzeug:127.0.0.1 - - [15/Sep/2025 13:40:32] \"\u001b[35m\u001b[1mPOST /verify HTTP/1.1\u001b[0m\" 500 -\n",
            "INFO:werkzeug:127.0.0.1 - - [15/Sep/2025 13:41:53] \"\u001b[35m\u001b[1mPOST /verify HTTP/1.1\u001b[0m\" 500 -\n",
            "INFO:werkzeug:127.0.0.1 - - [15/Sep/2025 13:41:54] \"GET / HTTP/1.1\" 200 -\n",
            "INFO:werkzeug:127.0.0.1 - - [15/Sep/2025 13:41:55] \"GET / HTTP/1.1\" 200 -\n",
            "INFO:werkzeug:127.0.0.1 - - [15/Sep/2025 13:42:00] \"\u001b[35m\u001b[1mPOST /verify HTTP/1.1\u001b[0m\" 500 -\n"
          ]
        }
      ],
      "source": [
        "# --- STEP 4: CREATE THE USER INTERFACE AND API SCRIPT ---\n",
        "print(\"\\n--- STEP 4 of 5: Creating the User Interface and API logic ---\")\n",
        "from flask import Flask, jsonify, request, render_template\n",
        "from pyngrok import ngrok\n",
        "import json\n",
        "\n",
        "# Define the Flask app\n",
        "app = Flask(__name__)\n",
        "\n",
        "# This is a helper function that the API will use\n",
        "def find_closest_match(new_embedding, db):\n",
        "    from scipy.spatial.distance import cosine\n",
        "    min_dist, identity = float('inf'), \"Unknown\"\n",
        "    for person, known_embedding in db.items():\n",
        "        dist = cosine(new_embedding, known_embedding)\n",
        "        if dist < min_dist: min_dist, identity = dist, person\n",
        "    # A cosine distance of 0.68 is a good threshold for ArcFace.\n",
        "    # If the closest match is still very different, we call it \"Unknown\".\n",
        "    if min_dist > 0.68: identity = \"Unknown\"\n",
        "    return identity, 1 - min_dist\n",
        "\n",
        "# This route serves the HTML page\n",
        "@app.route('/')\n",
        "def home():\n",
        "    # Pass the live variables to the HTML template for rendering\n",
        "    return render_template('index.html', API_URL_FOR_JS=API_URL_FOR_JS, CELEBRITY_LIST_FOR_JS=CELEBRITY_LIST_FOR_JS)\n",
        "\n",
        "# This route is the API that the UI will call\n",
        "@app.route('/verify', methods=['POST'])\n",
        "def verify_user():\n",
        "    import base64\n",
        "    data = request.get_json()\n",
        "    temp_img_path = \"temp_image.jpg\"\n",
        "    try:\n",
        "        image_bytes = base64.b6decode(data['image'])\n",
        "        with open(temp_img_path, \"wb\") as f: f.write(image_bytes)\n",
        "\n",
        "        # Use the same settings as the database creation for consistency\n",
        "        embedding_obj = DeepFace.represent(img_path=temp_img_path, model_name=model_name, detector_backend=detector_backend, enforce_detection=True)\n",
        "        new_embedding = embedding_obj[0][\"embedding\"]\n",
        "\n",
        "        predicted_identity, confidence = find_closest_match(new_embedding, db_representation)\n",
        "\n",
        "        print(f\"Claimed: {data['username']}, Predicted: {predicted_identity}, Confidence: {confidence:.2f}\")\n",
        "\n",
        "        if predicted_identity.lower() == data['username'].lower():\n",
        "            return jsonify({'status': 'Access Granted', 'verified_identity': predicted_identity, 'confidence': confidence})\n",
        "        else:\n",
        "            return jsonify({'status': 'Access Denied', 'predicted_identity': predicted_identity, 'confidence': confidence})\n",
        "    except Exception as e:\n",
        "        return jsonify({'status': 'error', 'message': str(e)}), 500\n",
        "    finally:\n",
        "        if os.path.exists(temp_img_path): os.remove(temp_img_path)\n",
        "\n",
        "# Create the index.html file in the /templates folder for Flask\n",
        "os.makedirs('templates', exist_ok=True)\n",
        "with open('templates/index.html', 'w') as f:\n",
        "    f.write(\"\"\"\n",
        "<!DOCTYPE html>\n",
        "<html lang=\"en\">\n",
        "<head>\n",
        "    <meta charset=\"UTF-8\"><meta name=\"viewport\" content=\"width=device-width, initial-scale=1.0\">\n",
        "    <title>J.A.R.V.I.S. - Identity Verification</title>\n",
        "    <style>body{font-family:-apple-system,BlinkMacSystemFont,\"Segoe UI\",Roboto,Helvetica,Arial,sans-serif;display:flex;justify-content:center;align-items:center;height:100vh;margin:0;background-color:#121212;color:#e0e0e0}.container{background-color:#1e1e1e;padding:40px;border-radius:12px;box-shadow:0 8px 32px rgba(0,0,0,.3);text-align:center;border:1px solid #333;max-width:500px;width:100%}h1{color:#00aaff;margin-bottom:20px}select,button,input[type=file]{width:100%;padding:12px;margin-bottom:20px;border-radius:8px;border:1px solid #444;background-color:#2c2c2c;color:#e0e0e0;font-size:16px;box-sizing:border-box}button{background-color:#0077cc;cursor:pointer;font-weight:700;transition:background-color .3s}button:hover{background-color:#005599}button:disabled{background-color:#555;cursor:not-allowed}#image-preview{max-width:100%;max-height:200px;margin-top:10px;border-radius:8px;border:1px solid #444;display:none}#result{margin-top:20px;padding:15px;border-radius:8px;font-size:1.2em;font-weight:700}.granted{background-color:#1a4a1a;color:#aaffaa;border:1px solid #339933}.denied{background-color:#4a1a1a;color:#ffaaaa;border:1px solid #993333}.spinner{border:4px solid #f3f3f3;border-top:4px solid #0077cc;border-radius:50%;width:30px;height:30px;animation:spin 1s linear infinite;margin:20px auto;display:none}@keyframes spin{0%{transform:rotate(0deg)}100%{transform:rotate(360deg)}}</style>\n",
        "</head>\n",
        "<body>\n",
        "    <div class=\"container\">\n",
        "        <h1>J.A.R.V.I.S. Authentication</h1>\n",
        "        <select id=\"username-select\"><option value=\"\">-- Select Claimed Identity --</option></select>\n",
        "        <input type=\"file\" id=\"image-upload\" accept=\"image/*\">\n",
        "        <img id=\"image-preview\" src=\"#\" alt=\"Image Preview\"/>\n",
        "        <button id=\"verify-button\" disabled>Verify Identity</button>\n",
        "        <div id=\"spinner\" class=\"spinner\"></div><div id=\"result\"></div>\n",
        "    </div>\n",
        "    <script>\n",
        "        const API_URL = \"{{ API_URL_FOR_JS }}\";\n",
        "        const CELEBRITY_NAMES = {{ CELEBRITY_LIST_FOR_JS | tojson }};\n",
        "        const usernameSelect=document.getElementById(\"username-select\"),imageUpload=document.getElementById(\"image-upload\"),imagePreview=document.getElementById(\"image-preview\"),verifyButton=document.getElementById(\"verify-button\"),resultDiv=document.getElementById(\"result\"),spinner=document.getElementById(\"spinner\");let uploadedFile=null;CELEBRITY_NAMES.sort().forEach(e=>{const t=document.createElement(\"option\");t.value=e,t.textContent=e,usernameSelect.appendChild(t)});const reader=new FileReader;imageUpload.addEventListener(\"change\",e=>{e.target.files&&e.target.files[0]&&(uploadedFile=e.target.files[0],reader.onload=e=>{imagePreview.src=e.target.result,imagePreview.style.display=\"block\",checkFormValidity()},reader.readAsDataURL(uploadedFile))}),usernameSelect.addEventListener(\"change\",checkFormValidity),verifyButton.addEventListener(\"click\",()=>{spinner.style.display=\"block\",verifyButton.disabled=!0,resultDiv.innerHTML=\"\",resultDiv.className=\"\";const e=new FileReader;e.readAsDataURL(uploadedFile),e.onload=async()=>{const t=e.result.split(\",\")[1],n=usernameSelect.value;try{const a=await fetch(API_URL,{method:\"POST\",headers:{\"Content-Type\":\"application/json\"},body:JSON.stringify({username:n,image:t})}),l=await a.json();if(!a.ok)throw new Error(l.message||\"An unknown error occurred.\");displayResult(l)}catch(s){displayError(s)}finally{spinner.style.display=\"none\",checkFormValidity()}}});function checkFormValidity(){verifyButton.disabled=!(uploadedFile&&usernameSelect.value)}function displayResult(e){resultDiv.textContent=`Status: ${e.status}`,\"Access Granted\"===e.status?(resultDiv.className=\"granted\",resultDiv.innerHTML+=`<br>Welcome, ${e.verified_identity}. (Confidence: ${(100*e.confidence).toFixed(2)}%)`):(resultDiv.className=\"denied\",resultDiv.innerHTML+=`<br>Identity mismatch. Predicted: ${e.predicted_identity}. (Confidence: ${(100*e.confidence).toFixed(2)}%)`)}function displayError(e){resultDiv.className=\"denied\",resultDiv.textContent=`Error: ${e.message}`}\n",
        "    </script>\n",
        "</body>\n",
        "</html>\n",
        "\"\"\")\n",
        "print(\"✅ UI and API logic are ready.\")\n",
        "\n",
        "\n",
        "# --- STEP 5: LAUNCH THE APPLICATION ---\n",
        "print(\"\\n--- STEP 5 of 5: Launching the final application ---\")\n",
        "# Set your Ngrok token\n",
        "ngrok.set_auth_token(\"32jKkbhuS7cne89anBSQrw4A0Vs_4ooGDceMk6uY8onB9MSXC\") # Your token is here\n",
        "public_url = ngrok.connect(5000)\n",
        "\n",
        "# Define the variables to pass to the UI template. These need to be globally available to the Flask app.\n",
        "API_URL_FOR_JS = public_url.public_url + \"/verify\"\n",
        "CELEBRITY_LIST_FOR_JS = sorted(list(db_representation.keys()))\n",
        "\n",
        "# --- FINAL COMMAND: RUN THE APP ---\n",
        "print(\"\\n\" + \"=\"*50)\n",
        "print(\"     YOUR J.A.R.V.I.S. APP IS LIVE!\")\n",
        "print(f\"     >> OPEN THIS URL IN YOUR BROWSER: {public_url.public_url} <<\")\n",
        "print(\"=\"*50)\n",
        "print(\"This cell will now run continuously to keep the server live.\")\n",
        "print(\"You will see live server logs (like 'Claimed: ..., Predicted: ...') appear below.\")\n",
        "app.run(port=5000)"
      ]
    },
    {
      "cell_type": "code",
      "source": [
        "# ==============================================================================\n",
        "# FINAL, SELF-CONTAINED SCRIPT TO EVALUATE THE ARCface/DEEPFACE SYSTEM\n",
        "# ==============================================================================\n",
        "\n",
        "# --- Step 1: Setup and Data Preparation ---\n",
        "print(\"--- Step 1: Setting up environment and preparing data ---\")\n",
        "from google.colab import drive\n",
        "import os\n",
        "import pandas as pd\n",
        "from sklearn.model_selection import train_test_split\n",
        "import pickle\n",
        "import numpy as np\n",
        "from tqdm import tqdm\n",
        "from deepface import DeepFace\n",
        "from sklearn.metrics import accuracy_score, classification_report\n",
        "from sklearn.preprocessing import label_binarize\n",
        "from sklearn.metrics import roc_curve, auc\n",
        "import matplotlib.pyplot as plt\n",
        "\n",
        "# Mount Drive\n",
        "drive.mount('/content/drive', force_remount=True)\n",
        "\n",
        "# Define path to unzipped data\n",
        "data_path = \"/content/data/data\"\n",
        "if not os.path.exists(data_path):\n",
        "    print(\"Unzipping data.zip from Google Drive...\")\n",
        "    zip_path_in_drive = \"/content/drive/MyDrive/data.zip\"\n",
        "    if os.path.exists(zip_path_in_drive):\n",
        "        !unzip -q \"{zip_path_in_drive}\" -d \"/content/data\"\n",
        "    else:\n",
        "        assert False, f\"ERROR: Cannot find data.zip at '{zip_path_in_drive}'\"\n",
        "\n",
        "# Re-create the file lists and split the data to get val_df\n",
        "all_image_paths, all_image_labels = [], []\n",
        "for folder in os.listdir(data_path):\n",
        "    name = folder.replace(\"pins_\", \"\")\n",
        "    folder_path = os.path.join(data_path, folder)\n",
        "    for img_file in os.listdir(folder_path):\n",
        "        all_image_paths.append(os.path.join(folder_path, img_file))\n",
        "        all_image_labels.append(name)\n",
        "\n",
        "_, X_val, _, y_val = train_test_split(\n",
        "    all_image_paths, all_image_labels, test_size=0.20, random_state=42, stratify=all_image_labels\n",
        ")\n",
        "val_df = pd.DataFrame({'filepath': X_val, 'label': y_val})\n",
        "print(f\"✅ 'val_df' has been successfully created with {len(val_df)} images.\")\n",
        "\n",
        "# Load the robust embeddings database\n",
        "!cp /content/drive/MyDrive/celebrity_embeddings_v2.pkl .\n",
        "with open('celebrity_embeddings_v2.pkl', 'rb') as f:\n",
        "    db_representation = pickle.load(f)\n",
        "\n",
        "# The model and detector we used to build the database\n",
        "model_name = \"ArcFace\"\n",
        "detector_backend = \"retinaface\"\n",
        "print(\"✅ Setup complete. Starting evaluation on the validation set...\")\n",
        "\n",
        "\n",
        "# --- Step 2: Loop through the validation set and make predictions ---\n",
        "y_true, y_pred, y_scores = [], [], []\n",
        "\n",
        "def get_all_scores(new_embedding, db):\n",
        "    from scipy.spatial.distance import cosine\n",
        "    scores = {}\n",
        "    for person, known_embedding in db.items():\n",
        "        similarity = 1 - cosine(new_embedding, known_embedding)\n",
        "        scores[person] = similarity\n",
        "    return scores\n",
        "\n",
        "def find_closest_match(new_embedding, db):\n",
        "    scores = get_all_scores(new_embedding, db)\n",
        "    if not scores: return \"Unknown\", 0\n",
        "    best_match = max(scores, key=scores.get)\n",
        "    confidence = scores[best_match]\n",
        "    if confidence < (1 - 0.68): return \"Unknown\", confidence\n",
        "    return best_match, confidence\n",
        "\n",
        "for index, row in tqdm(val_df.iterrows(), total=val_df.shape[0]):\n",
        "    filepath, true_label = row['filepath'], row['label']\n",
        "    try:\n",
        "        embedding_obj = DeepFace.represent(\n",
        "            img_path=filepath, model_name=model_name, detector_backend=detector_backend, enforce_detection=True\n",
        "        )\n",
        "        new_embedding = embedding_obj[0][\"embedding\"]\n",
        "        predicted_label, _ = find_closest_match(new_embedding, db_representation)\n",
        "        all_class_scores = get_all_scores(new_embedding, db_representation)\n",
        "        y_true.append(true_label); y_pred.append(predicted_label); y_scores.append(all_class_scores)\n",
        "    except Exception as e:\n",
        "        print(f\"Skipping {filepath}: {e}\")\n",
        "        continue\n",
        "print(\"\\n✅ Evaluation loop complete.\")\n",
        "\n",
        "\n",
        "# --- Step 3: Calculate and Display Metrics ---\n",
        "print(\"\\n\" + \"=\"*50); print(\"           PERFORMANCE EVALUATION RESULTS\"); print(\"=\"*50)\n",
        "accuracy = accuracy_score(y_true, y_pred)\n",
        "print(f\"\\nOverall System Accuracy: {accuracy * 100:.2f}%\")\n",
        "print(\"-\" * 50)\n",
        "print(\"\\nClassification Report:\\n\")\n",
        "labels_in_report = sorted(list(set(y_true) | set(y_pred)))\n",
        "print(classification_report(y_true, y_pred, labels=labels_in_report, zero_division=0))\n",
        "print(\"=\"*50)\n",
        "\n",
        "\n",
        "# the erorr solved down"
      ],
      "metadata": {
        "colab": {
          "base_uri": "https://localhost:8080/",
          "height": 1000
        },
        "id": "CGXiopqUvZVa",
        "outputId": "7e751094-c9e0-4de9-8f8c-677351284489"
      },
      "execution_count": null,
      "outputs": [
        {
          "output_type": "stream",
          "name": "stdout",
          "text": [
            "--- Step 1: Setting up environment and preparing data ---\n",
            "Mounted at /content/drive\n",
            "✅ 'val_df' has been successfully created with 3096 images.\n",
            "✅ Setup complete. Starting evaluation on the validation set...\n"
          ]
        },
        {
          "output_type": "stream",
          "name": "stderr",
          "text": [
            "100%|██████████| 3096/3096 [12:54<00:00,  4.00it/s]\n"
          ]
        },
        {
          "output_type": "stream",
          "name": "stdout",
          "text": [
            "\n",
            "✅ Evaluation loop complete.\n",
            "\n",
            "==================================================\n",
            "           PERFORMANCE EVALUATION RESULTS\n",
            "==================================================\n",
            "\n",
            "Overall System Accuracy: 96.16%\n",
            "--------------------------------------------------\n",
            "\n",
            "Classification Report:\n",
            "\n",
            "                        precision    recall  f1-score   support\n",
            "\n",
            "          Adriana Lima       0.97      0.97      0.97        38\n",
            "          Alex Lawther       1.00      1.00      1.00        27\n",
            "    Alexandra Daddario       0.95      1.00      0.98        40\n",
            "          Alvaro Morte       1.00      1.00      1.00        25\n",
            "           Amanda Crew       1.00      1.00      1.00        21\n",
            "          Andy Samberg       1.00      0.91      0.96        35\n",
            "         Anne Hathaway       0.97      0.97      0.97        36\n",
            "        Anthony Mackie       1.00      1.00      1.00        22\n",
            "         Avril Lavigne       0.94      1.00      0.97        29\n",
            "           Ben Affleck       0.92      1.00      0.96        22\n",
            "            Bill Gates       1.00      1.00      1.00        22\n",
            "          Bobby Morley       1.00      1.00      1.00        24\n",
            "      Brenton Thwaites       0.97      0.97      0.97        37\n",
            "        Brian J. Smith       1.00      1.00      1.00        18\n",
            "           Brie Larson       1.00      0.93      0.97        30\n",
            "           Chris Evans       0.92      0.83      0.87        29\n",
            "       Chris Hemsworth       1.00      0.96      0.98        28\n",
            "           Chris Pratt       1.00      0.94      0.97        31\n",
            "        Christian Bale       1.00      1.00      1.00        27\n",
            "     Cristiano Ronaldo       0.94      1.00      0.97        17\n",
            "    Danielle Panabaker       1.00      1.00      1.00        32\n",
            "       Dominic Purcell       1.00      1.00      1.00        26\n",
            "        Dwayne Johnson       1.00      1.00      1.00        25\n",
            "          Eliza Taylor       1.00      0.86      0.93        29\n",
            "        Elizabeth Lail       0.87      0.93      0.90        28\n",
            "         Emilia Clarke       0.93      1.00      0.96        37\n",
            "            Emma Stone       1.00      0.88      0.94        25\n",
            "           Emma Watson       0.95      0.95      0.95        37\n",
            "       Gwyneth Paltrow       1.00      0.97      0.98        33\n",
            "           Henry Cavil       1.00      0.94      0.97        34\n",
            "          Hugh Jackman       0.97      1.00      0.98        32\n",
            "            Inbar Lavi       0.96      1.00      0.98        22\n",
            "           Irina Shayk       0.93      1.00      0.97        28\n",
            "         Jake Mcdorman       1.00      1.00      1.00        28\n",
            "           Jason Momoa       1.00      0.94      0.97        32\n",
            "     Jennifer Lawrence       0.97      1.00      0.98        32\n",
            "         Jeremy Renner       1.00      1.00      1.00        29\n",
            "        Jessica Barden       0.96      0.92      0.94        25\n",
            "          Jimmy Fallon       1.00      0.90      0.95        20\n",
            "           Johnny Depp       0.65      0.97      0.78        32\n",
            "           Josh Radnor       1.00      0.95      0.98        21\n",
            "      Katharine Mcphee       1.00      0.97      0.98        31\n",
            "    Katherine Langford       1.00      0.95      0.97        40\n",
            "          Keanu Reeves       1.00      0.93      0.96        28\n",
            "        Krysten Ritter       1.00      0.93      0.97        30\n",
            "     Leonardo DiCaprio       0.98      1.00      0.99        42\n",
            "         Lili Reinhart       0.93      1.00      0.96        26\n",
            "        Lindsey Morgan       0.97      1.00      0.98        30\n",
            "          Lionel Messi       1.00      0.87      0.93        15\n",
            "          Logan Lerman       0.97      0.97      0.97        37\n",
            "      Madelaine Petsch       0.92      0.97      0.94        34\n",
            "       Maisie Williams       1.00      0.94      0.97        34\n",
            "         Maria Pedraza       0.95      0.86      0.90        22\n",
            "    Marie Avgeropoulos       1.00      0.96      0.98        28\n",
            "          Mark Ruffalo       1.00      0.94      0.97        31\n",
            "       Mark Zuckerberg       1.00      1.00      1.00        17\n",
            "             Megan Fox       1.00      0.95      0.97        37\n",
            "           Miley Cyrus       0.96      0.87      0.92        31\n",
            "    Millie Bobby Brown       0.97      0.91      0.94        34\n",
            "       Morena Baccarin       1.00      1.00      1.00        31\n",
            "        Morgan Freeman       1.00      1.00      1.00        18\n",
            "          Nadia Hilker       1.00      0.92      0.96        24\n",
            "        Natalie Dormer       0.97      0.97      0.97        35\n",
            "       Natalie Portman       1.00      0.90      0.95        29\n",
            "   Neil Patrick Harris       1.00      0.95      0.98        21\n",
            "          Pedro Alonso       1.00      0.91      0.95        22\n",
            "          Penn Badgley       1.00      1.00      1.00        30\n",
            "            Rami Malek       1.00      1.00      1.00        28\n",
            "      Rebecca Ferguson       1.00      1.00      1.00        31\n",
            "        Richard Harmon       1.00      1.00      1.00        26\n",
            "               Rihanna       1.00      0.96      0.98        24\n",
            "        Robert De Niro       0.96      0.96      0.96        28\n",
            "      Robert Downey Jr       0.97      0.93      0.95        41\n",
            "   Sarah Wayne Callies       0.93      0.96      0.95        28\n",
            "          Selena Gomez       0.97      0.91      0.94        33\n",
            "Shakira Isabel Mebarak       0.96      1.00      0.98        27\n",
            "         Sophie Turner       0.95      1.00      0.97        36\n",
            "         Stephen Amell       1.00      1.00      1.00        28\n",
            "          Taylor Swift       1.00      0.70      0.82        23\n",
            "            Tom Cruise       0.94      0.97      0.96        34\n",
            "             Tom Hardy       1.00      1.00      1.00        35\n",
            "        Tom Hiddleston       0.97      0.94      0.95        32\n",
            "           Tom Holland       0.94      0.94      0.94        33\n",
            "    Tuppence Middleton       1.00      0.96      0.98        24\n",
            "               Unknown       0.00      0.00      0.00         0\n",
            "        Ursula Corbero       1.00      0.97      0.98        29\n",
            "      Wentworth Miller       1.00      1.00      1.00        32\n",
            "             Zac Efron       1.00      1.00      1.00        34\n",
            "               Zendaya       0.92      0.96      0.94        24\n",
            "           Zoe Saldana       1.00      0.94      0.97        33\n",
            "   alycia dabnem carey       0.97      0.97      0.97        37\n",
            "           amber heard       1.00      0.92      0.96        38\n",
            "          barack obama       0.95      1.00      0.98        21\n",
            "        barbara palvin       1.00      1.00      1.00        35\n",
            "         camila mendes       0.97      1.00      0.98        29\n",
            "       elizabeth olsen       0.95      0.95      0.95        39\n",
            "            ellen page       1.00      1.00      1.00        33\n",
            "             elon musk       1.00      0.96      0.98        24\n",
            "             gal gadot       1.00      0.94      0.97        35\n",
            "          grant gustin       1.00      0.97      0.98        32\n",
            "            jeff bezos       0.95      1.00      0.97        19\n",
            "        kiernen shipka       1.00      0.97      0.99        36\n",
            "         margot robbie       0.93      0.95      0.94        39\n",
            "        melissa fumero       0.89      0.93      0.91        27\n",
            "    scarlett johansson       1.00      1.00      1.00        35\n",
            "             tom ellis       1.00      0.91      0.95        32\n",
            "\n",
            "              accuracy                           0.96      3096\n",
            "             macro avg       0.97      0.95      0.96      3096\n",
            "          weighted avg       0.98      0.96      0.97      3096\n",
            "\n",
            "==================================================\n",
            "\n",
            "Plotting ROC Curves (One-vs-Rest)...\n"
          ]
        },
        {
          "output_type": "error",
          "ename": "TypeError",
          "evalue": "'ListedColormap' object is not iterable",
          "traceback": [
            "\u001b[0;31m---------------------------------------------------------------------------\u001b[0m",
            "\u001b[0;31mTypeError\u001b[0m                                 Traceback (most recent call last)",
            "\u001b[0;32m/tmp/ipython-input-3501701501.py\u001b[0m in \u001b[0;36m<cell line: 0>\u001b[0;34m()\u001b[0m\n\u001b[1;32m    116\u001b[0m \u001b[0mplt\u001b[0m\u001b[0;34m.\u001b[0m\u001b[0mfigure\u001b[0m\u001b[0;34m(\u001b[0m\u001b[0mfigsize\u001b[0m\u001b[0;34m=\u001b[0m\u001b[0;34m(\u001b[0m\u001b[0;36m12\u001b[0m\u001b[0;34m,\u001b[0m \u001b[0;36m10\u001b[0m\u001b[0;34m)\u001b[0m\u001b[0;34m)\u001b[0m\u001b[0;34m\u001b[0m\u001b[0;34m\u001b[0m\u001b[0m\n\u001b[1;32m    117\u001b[0m \u001b[0mcolors\u001b[0m \u001b[0;34m=\u001b[0m \u001b[0mplt\u001b[0m\u001b[0;34m.\u001b[0m\u001b[0mcm\u001b[0m\u001b[0;34m.\u001b[0m\u001b[0mget_cmap\u001b[0m\u001b[0;34m(\u001b[0m\u001b[0;34m'tab20'\u001b[0m\u001b[0;34m,\u001b[0m \u001b[0mlen\u001b[0m\u001b[0;34m(\u001b[0m\u001b[0mclasses\u001b[0m\u001b[0;34m)\u001b[0m\u001b[0;34m)\u001b[0m\u001b[0;34m\u001b[0m\u001b[0;34m\u001b[0m\u001b[0m\n\u001b[0;32m--> 118\u001b[0;31m \u001b[0;32mfor\u001b[0m \u001b[0mi\u001b[0m\u001b[0;34m,\u001b[0m \u001b[0mcolor\u001b[0m \u001b[0;32min\u001b[0m \u001b[0mzip\u001b[0m\u001b[0;34m(\u001b[0m\u001b[0mrange\u001b[0m\u001b[0;34m(\u001b[0m\u001b[0mlen\u001b[0m\u001b[0;34m(\u001b[0m\u001b[0mclasses\u001b[0m\u001b[0;34m)\u001b[0m\u001b[0;34m)\u001b[0m\u001b[0;34m,\u001b[0m \u001b[0mcolors\u001b[0m\u001b[0;34m)\u001b[0m\u001b[0;34m:\u001b[0m\u001b[0;34m\u001b[0m\u001b[0;34m\u001b[0m\u001b[0m\n\u001b[0m\u001b[1;32m    119\u001b[0m     \u001b[0mplt\u001b[0m\u001b[0;34m.\u001b[0m\u001b[0mplot\u001b[0m\u001b[0;34m(\u001b[0m\u001b[0mfpr\u001b[0m\u001b[0;34m[\u001b[0m\u001b[0mi\u001b[0m\u001b[0;34m]\u001b[0m\u001b[0;34m,\u001b[0m \u001b[0mtpr\u001b[0m\u001b[0;34m[\u001b[0m\u001b[0mi\u001b[0m\u001b[0;34m]\u001b[0m\u001b[0;34m,\u001b[0m \u001b[0mcolor\u001b[0m\u001b[0;34m=\u001b[0m\u001b[0mcolor\u001b[0m\u001b[0;34m,\u001b[0m \u001b[0mlw\u001b[0m\u001b[0;34m=\u001b[0m\u001b[0;36m1\u001b[0m\u001b[0;34m)\u001b[0m\u001b[0;34m\u001b[0m\u001b[0;34m\u001b[0m\u001b[0m\n\u001b[1;32m    120\u001b[0m \u001b[0mplt\u001b[0m\u001b[0;34m.\u001b[0m\u001b[0mplot\u001b[0m\u001b[0;34m(\u001b[0m\u001b[0;34m[\u001b[0m\u001b[0;36m0\u001b[0m\u001b[0;34m,\u001b[0m \u001b[0;36m1\u001b[0m\u001b[0;34m]\u001b[0m\u001b[0;34m,\u001b[0m \u001b[0;34m[\u001b[0m\u001b[0;36m0\u001b[0m\u001b[0;34m,\u001b[0m \u001b[0;36m1\u001b[0m\u001b[0;34m]\u001b[0m\u001b[0;34m,\u001b[0m \u001b[0;34m'k--'\u001b[0m\u001b[0;34m,\u001b[0m \u001b[0mlw\u001b[0m\u001b[0;34m=\u001b[0m\u001b[0;36m2\u001b[0m\u001b[0;34m)\u001b[0m\u001b[0;34m;\u001b[0m \u001b[0mplt\u001b[0m\u001b[0;34m.\u001b[0m\u001b[0mxlim\u001b[0m\u001b[0;34m(\u001b[0m\u001b[0;34m[\u001b[0m\u001b[0;36m0.0\u001b[0m\u001b[0;34m,\u001b[0m \u001b[0;36m1.0\u001b[0m\u001b[0;34m]\u001b[0m\u001b[0;34m)\u001b[0m\u001b[0;34m;\u001b[0m \u001b[0mplt\u001b[0m\u001b[0;34m.\u001b[0m\u001b[0mylim\u001b[0m\u001b[0;34m(\u001b[0m\u001b[0;34m[\u001b[0m\u001b[0;36m0.0\u001b[0m\u001b[0;34m,\u001b[0m \u001b[0;36m1.05\u001b[0m\u001b[0;34m]\u001b[0m\u001b[0;34m)\u001b[0m\u001b[0;34m\u001b[0m\u001b[0;34m\u001b[0m\u001b[0m\n",
            "\u001b[0;31mTypeError\u001b[0m: 'ListedColormap' object is not iterable"
          ]
        },
        {
          "output_type": "display_data",
          "data": {
            "text/plain": [
              "<Figure size 1200x1000 with 0 Axes>"
            ]
          },
          "metadata": {}
        }
      ]
    },
    {
      "cell_type": "code",
      "source": [
        "# ==============================================================================\n",
        "# SCRIPT FOR PLOTTING SPECIFIC ROC CURVES WITH A LEGEND\n",
        "# ==============================================================================\n",
        "import matplotlib.pyplot as plt\n",
        "\n",
        "def plot_specific_roc_curves(target_names):\n",
        "    \"\"\"\n",
        "    Plots the ROC curves and AUC scores for a specific list of target names.\n",
        "\n",
        "    Args:\n",
        "        target_names (list of str): A list of the exact celebrity names you want to plot.\n",
        "    \"\"\"\n",
        "    plt.figure(figsize=(12, 10))\n",
        "\n",
        "    # Get the a color map to automatically assign different colors\n",
        "    colors = plt.cm.get_cmap('tab10', len(target_names))\n",
        "\n",
        "    print(\"--- ROC Curve Analysis for Specific Individuals ---\")\n",
        "\n",
        "    found_count = 0\n",
        "    for i, name in enumerate(target_names):\n",
        "        # Find the index that corresponds to this name\n",
        "        if name in classes:\n",
        "            class_index = classes.index(name)\n",
        "\n",
        "            # Check if we have computed data for this class index\n",
        "            if class_index in fpr and class_index in tpr:\n",
        "                auc_score = roc_auc[class_index]\n",
        "\n",
        "                # Plot the curve for this person with a label and color\n",
        "                plt.plot(fpr[class_index], tpr[class_index], color=colors(i), lw=2,\n",
        "                         label=f'ROC curve for {name} (AUC = {auc_score:0.2f})')\n",
        "\n",
        "                print(f\"Plotting curve for: {name} (AUC = {auc_score:0.2f})\")\n",
        "                found_count += 1\n",
        "            else:\n",
        "                print(f\"Warning: No ROC data available for '{name}' at index {class_index}.\")\n",
        "        else:\n",
        "            print(f\"Warning: '{name}' not found in the list of classes.\")\n",
        "\n",
        "    if found_count == 0:\n",
        "        print(\"\\nError: No data found for any of the specified names. Please check spelling and capitalization.\")\n",
        "        plt.close() # Close the empty plot\n",
        "        return\n",
        "\n",
        "    # Plot the diagonal line (random guessing)\n",
        "    plt.plot([0, 1], [0, 1], 'k--', lw=2, label='Random Guess')\n",
        "\n",
        "    # Set plot labels, title, and legend\n",
        "    plt.xlim([0.0, 1.0])\n",
        "    plt.ylim([0.0, 1.05])\n",
        "    plt.xlabel('False Positive Rate')\n",
        "    plt.ylabel('True Positive Rate')\n",
        "    plt.title('Receiver Operating Characteristic (ROC) for Specific Individuals')\n",
        "    plt.legend(loc=\"lower right\")\n",
        "    plt.grid(True)\n",
        "    plt.show()\n",
        "\n",
        "\n",
        "# --- EXAMPLE USAGE ---\n",
        "# Now you can easily compare any group of people you want.\n",
        "# Let's compare some people who were confused in our earlier tests.\n",
        "people_to_compare = [\n",
        "    \"Adriana Lima\",\n",
        "    \"Irina Shayk\",\n",
        "    \"elon musk\",\n",
        "    \"Tom Hiddleston\",\n",
        "    \"Morgan Freeman\" # Let's add a high-performer for comparison\n",
        "]\n",
        "\n",
        "plot_specific_roc_curves(people_to_compare)"
      ],
      "metadata": {
        "colab": {
          "base_uri": "https://localhost:8080/",
          "height": 976
        },
        "id": "GkX7w8ItzMMd",
        "outputId": "d14df1b9-2cd1-4ddd-9d60-05006c159ef3"
      },
      "execution_count": null,
      "outputs": [
        {
          "output_type": "stream",
          "name": "stdout",
          "text": [
            "--- ROC Curve Analysis for Specific Individuals ---\n",
            "Plotting curve for: Adriana Lima (AUC = 1.00)\n",
            "Plotting curve for: Irina Shayk (AUC = 1.00)\n",
            "Plotting curve for: elon musk (AUC = 1.00)\n",
            "Plotting curve for: Tom Hiddleston (AUC = 1.00)\n",
            "Plotting curve for: Morgan Freeman (AUC = 1.00)\n"
          ]
        },
        {
          "output_type": "display_data",
          "data": {
            "text/plain": [
              "<Figure size 1200x1000 with 1 Axes>"
            ],
            "image/png": "[encoded data removed]"
          },
          "metadata": {}
        }
      ]
    },
    {
      "cell_type": "code",
      "source": [
        "# ==============================================================================\n",
        "# FINAL, LAUNCHER-ONLY SCRIPT\n",
        "# ==============================================================================\n",
        "\n",
        "# --- STEP 1: SETUP AND FILE PREPARATION ---\n",
        "print(\"--- STEP 1: Installing libraries and preparing files ---\")\n",
        "!pip install -q deepface flask flask-cors pyngrok retina-face\n",
        "\n",
        "#from google.colab import drive\n",
        "import os\n",
        "import json\n",
        "from flask import Flask, jsonify, request, render_template\n",
        "from pyngrok import ngrok\n",
        "import pickle\n",
        "\n",
        "# Mount Google Drive\n",
        "#drive.mount('/content/drive', force_remount=True)\n",
        "\n",
        "# Copy your EXISTING database and UI file from Drive to the Colab environment\n",
        "#!cp /content/celebrity_embeddings_v2.pkl .\n",
        "#!cp /content/index.html .\n",
        "print(\"✅ Essential files (database and UI) copied from Google Drive.\")\n"
      ],
      "metadata": {
        "colab": {
          "base_uri": "https://localhost:8080/"
        },
        "id": "odoOI_7K4tRT",
        "outputId": "b55ecc3a-7a75-4ea9-bec3-0ced011ffe88"
      },
      "execution_count": 1,
      "outputs": [
        {
          "output_type": "stream",
          "name": "stdout",
          "text": [
            "--- STEP 1: Installing libraries and preparing files ---\n",
            "✅ Essential files (database and UI) copied from Google Drive.\n"
          ]
        }
      ]
    },
    {
      "cell_type": "code",
      "source": [
        "# --- STEP 2: LAUNCH THE APPLICATION ---\n",
        "print(\"\\n--- STEP 2: Loading database and launching the application ---\")\n",
        "\n",
        "# Load the embeddings database that we just copied\n",
        "with open('celebrity_embeddings_v2.pkl', 'rb') as f:\n",
        "    db_representation = pickle.load(f)\n",
        "print(f\"✅ Embeddings database with {len(db_representation)} people loaded into memory.\")\n",
        "\n",
        "# Define the Flask app and tell it where to find the HTML file\n",
        "app = Flask(__name__, template_folder='/content/')\n",
        "\n",
        "# Set your Ngrok token and start the tunnel for the application\n",
        "ngrok.set_auth_token(\"32jKkbhuS7cne89anBSQrw4A0Vs_4ooGDceMk6uY8onB9MSXC\") # Your token is here\n",
        "public_url = ngrok.connect(5000)\n",
        "print(f\"✅ Ngrok tunnel is live at: {public_url.public_url}\")\n",
        "\n",
        "# Define the variables that will be injected into the HTML file\n",
        "API_URL_FOR_JS = public_url.public_url + \"/verify\"\n",
        "CELEBRITY_LIST_FOR_JS = sorted(list(db_representation.keys()))\n",
        "\n",
        "# Define the main route that will serve the User Interface\n",
        "@app.route('/')\n",
        "def home():\n",
        "    # This function renders the HTML file, dynamically inserting the correct API URL and celebrity list\n",
        "    return render_template('index.html', API_URL_FOR_JS=API_URL_FOR_JS, CELEBRITY_LIST_FOR_JS=CELEBRITY_LIST_FOR_JS)\n",
        "\n",
        "# Define the API endpoint that the UI will call for verification\n",
        "@app.route('/verify', methods=['POST'])\n",
        "def verify_user():\n",
        "    from deepface import DeepFace\n",
        "    import base64\n",
        "    import numpy as np\n",
        "\n",
        "    data = request.get_json()\n",
        "    temp_img_path = \"temp_image.jpg\"\n",
        "\n",
        "    try:\n",
        "        # The typo is fixed here: b64decode\n",
        "        image_bytes = base64.b64decode(data['image'])\n",
        "        with open(temp_img_path, \"wb\") as f: f.write(image_bytes)\n",
        "\n",
        "        embedding_obj = DeepFace.represent(img_path=temp_img_path, model_name=\"ArcFace\", detector_backend=\"retinaface\", enforce_detection=True)\n",
        "        new_embedding = embedding_obj[0][\"embedding\"]\n",
        "\n",
        "        predicted_identity, confidence = find_closest_match(new_embedding, db_representation)\n",
        "\n",
        "        print(f\"Claimed: {data['username']}, Predicted: {predicted_identity}, Confidence: {confidence:.2f}\")\n",
        "\n",
        "        if predicted_identity.lower() == data['username'].lower():\n",
        "            return jsonify({'status': 'Access Granted', 'verified_identity': predicted_identity, 'confidence': confidence})\n",
        "        else:\n",
        "            return jsonify({'status': 'Access Denied', 'predicted_identity': predicted_identity, 'confidence': confidence})\n",
        "    except ValueError as e:\n",
        "      if \"Face could not be detected\" in str(e):\n",
        "        return jsonify({'status': 'error', 'message': 'No face could be detected in the image. Please use a clearer photo.'}), 400\n",
        "      else:\n",
        "        return jsonify({'status': 'error', 'message': str(e)}), 500\n",
        "    finally:\n",
        "        if os.path.exists(temp_img_path): os.remove(temp_img_path)\n",
        "\n",
        "# This is the helper function that the API uses to compare face fingerprints\n",
        "def find_closest_match(new_embedding, db):\n",
        "    from scipy.spatial.distance import cosine\n",
        "    min_dist, identity = float('inf'), \"Unknown\"\n",
        "    for person, known_embedding in db.items():\n",
        "        dist = cosine(new_embedding, known_embedding)\n",
        "        if dist < min_dist: min_dist, identity = dist, person\n",
        "    if min_dist > 0.68: identity = \"Unknown\" # Confidence threshold\n",
        "    return identity, 1 - min_dist\n",
        "\n",
        "# --- FINAL COMMAND: RUN THE APP ---\n",
        "print(\"\\n\" + \"=\"*50)\n",
        "print(\"     YOUR J.A.R.V.I.S. APP IS LIVE!\")\n",
        "print(f\"     >> OPEN THIS URL IN YOUR BROWSER: {public_url.public_url} <<\")\n",
        "print(\"=\"*50)\n",
        "print(\"This cell will now run continuously to keep the server live.\")\n",
        "app.run(port=5000)"
      ],
      "metadata": {
        "colab": {
          "base_uri": "https://localhost:8080/"
        },
        "id": "PSqROculnyL8",
        "outputId": "552dc0b0-3286-48cd-f2e8-0f810f56230a"
      },
      "execution_count": null,
      "outputs": [
        {
          "output_type": "stream",
          "name": "stdout",
          "text": [
            "\n",
            "--- STEP 2: Loading database and launching the application ---\n",
            "✅ Embeddings database with 105 people loaded into memory.\n",
            "✅ Ngrok tunnel is live at: https://e7de26172cb8.ngrok-free.app\n",
            "\n",
            "==================================================\n",
            "     YOUR J.A.R.V.I.S. APP IS LIVE!\n",
            "     >> OPEN THIS URL IN YOUR BROWSER: https://e7de26172cb8.ngrok-free.app <<\n",
            "==================================================\n",
            "This cell will now run continuously to keep the server live.\n",
            " * Serving Flask app '__main__'\n",
            " * Debug mode: off\n"
          ]
        },
        {
          "output_type": "stream",
          "name": "stderr",
          "text": [
            "INFO:werkzeug:\u001b[31m\u001b[1mWARNING: This is a development server. Do not use it in a production deployment. Use a production WSGI server instead.\u001b[0m\n",
            " * Running on http://127.0.0.1:5000\n",
            "INFO:werkzeug:\u001b[33mPress CTRL+C to quit\u001b[0m\n",
            "INFO:werkzeug:127.0.0.1 - - [15/Sep/2025 19:34:29] \"GET / HTTP/1.1\" 200 -\n",
            "INFO:werkzeug:127.0.0.1 - - [15/Sep/2025 19:34:29] \"GET / HTTP/1.1\" 200 -\n",
            "INFO:werkzeug:127.0.0.1 - - [15/Sep/2025 19:34:29] \"\u001b[33mGET /favicon.ico HTTP/1.1\u001b[0m\" 404 -\n",
            "INFO:werkzeug:127.0.0.1 - - [15/Sep/2025 19:34:53] \"POST /verify HTTP/1.1\" 200 -\n"
          ]
        },
        {
          "output_type": "stream",
          "name": "stdout",
          "text": [
            "Claimed: Lionel Messi, Predicted: melissa fumero, Confidence: 0.60\n"
          ]
        },
        {
          "output_type": "stream",
          "name": "stderr",
          "text": [
            "INFO:werkzeug:127.0.0.1 - - [15/Sep/2025 19:35:25] \"POST /verify HTTP/1.1\" 200 -\n"
          ]
        },
        {
          "output_type": "stream",
          "name": "stdout",
          "text": [
            "Claimed: Lionel Messi, Predicted: Lionel Messi, Confidence: 0.49\n"
          ]
        },
        {
          "output_type": "stream",
          "name": "stderr",
          "text": [
            "INFO:werkzeug:127.0.0.1 - - [15/Sep/2025 19:36:03] \"POST /verify HTTP/1.1\" 200 -\n"
          ]
        },
        {
          "output_type": "stream",
          "name": "stdout",
          "text": [
            "Claimed: Lionel Messi, Predicted: Lionel Messi, Confidence: 0.43\n"
          ]
        },
        {
          "output_type": "stream",
          "name": "stderr",
          "text": [
            "INFO:werkzeug:127.0.0.1 - - [15/Sep/2025 19:36:25] \"POST /verify HTTP/1.1\" 200 -\n"
          ]
        },
        {
          "output_type": "stream",
          "name": "stdout",
          "text": [
            "Claimed: Lionel Messi, Predicted: Krysten Ritter, Confidence: 0.93\n"
          ]
        },
        {
          "output_type": "stream",
          "name": "stderr",
          "text": [
            "INFO:werkzeug:127.0.0.1 - - [15/Sep/2025 19:36:44] \"POST /verify HTTP/1.1\" 200 -\n"
          ]
        },
        {
          "output_type": "stream",
          "name": "stdout",
          "text": [
            "Claimed: Lionel Messi, Predicted: Krysten Ritter, Confidence: 0.93\n"
          ]
        },
        {
          "output_type": "stream",
          "name": "stderr",
          "text": [
            "INFO:werkzeug:127.0.0.1 - - [15/Sep/2025 19:36:53] \"POST /verify HTTP/1.1\" 200 -\n"
          ]
        },
        {
          "output_type": "stream",
          "name": "stdout",
          "text": [
            "Claimed: Lionel Messi, Predicted: Unknown, Confidence: 0.27\n"
          ]
        },
        {
          "output_type": "stream",
          "name": "stderr",
          "text": [
            "INFO:werkzeug:127.0.0.1 - - [15/Sep/2025 19:37:13] \"POST /verify HTTP/1.1\" 200 -\n"
          ]
        },
        {
          "output_type": "stream",
          "name": "stdout",
          "text": [
            "Claimed: Lionel Messi, Predicted: Unknown, Confidence: 0.27\n"
          ]
        },
        {
          "output_type": "stream",
          "name": "stderr",
          "text": [
            "INFO:werkzeug:127.0.0.1 - - [15/Sep/2025 19:37:24] \"\u001b[31m\u001b[1mPOST /verify HTTP/1.1\u001b[0m\" 400 -\n",
            "INFO:werkzeug:127.0.0.1 - - [15/Sep/2025 19:38:20] \"POST /verify HTTP/1.1\" 200 -\n"
          ]
        },
        {
          "output_type": "stream",
          "name": "stdout",
          "text": [
            "Claimed: Lionel Messi, Predicted: Lionel Messi, Confidence: 0.66\n"
          ]
        },
        {
          "output_type": "stream",
          "name": "stderr",
          "text": [
            "INFO:werkzeug:127.0.0.1 - - [15/Sep/2025 19:38:47] \"POST /verify HTTP/1.1\" 200 -\n"
          ]
        },
        {
          "output_type": "stream",
          "name": "stdout",
          "text": [
            "Claimed: Lionel Messi, Predicted: Lionel Messi, Confidence: 0.81\n"
          ]
        },
        {
          "output_type": "stream",
          "name": "stderr",
          "text": [
            "INFO:werkzeug:127.0.0.1 - - [15/Sep/2025 19:39:08] \"POST /verify HTTP/1.1\" 200 -\n"
          ]
        },
        {
          "output_type": "stream",
          "name": "stdout",
          "text": [
            "Claimed: Lionel Messi, Predicted: Lionel Messi, Confidence: 0.60\n"
          ]
        },
        {
          "output_type": "stream",
          "name": "stderr",
          "text": [
            "INFO:werkzeug:127.0.0.1 - - [15/Sep/2025 19:39:24] \"POST /verify HTTP/1.1\" 200 -\n"
          ]
        },
        {
          "output_type": "stream",
          "name": "stdout",
          "text": [
            "Claimed: Lionel Messi, Predicted: Lionel Messi, Confidence: 0.60\n"
          ]
        },
        {
          "output_type": "stream",
          "name": "stderr",
          "text": [
            "INFO:werkzeug:127.0.0.1 - - [15/Sep/2025 19:39:38] \"POST /verify HTTP/1.1\" 200 -\n"
          ]
        },
        {
          "output_type": "stream",
          "name": "stdout",
          "text": [
            "Claimed: Lionel Messi, Predicted: Lionel Messi, Confidence: 0.68\n"
          ]
        },
        {
          "output_type": "stream",
          "name": "stderr",
          "text": [
            "INFO:werkzeug:127.0.0.1 - - [15/Sep/2025 19:44:17] \"POST /verify HTTP/1.1\" 200 -\n"
          ]
        },
        {
          "output_type": "stream",
          "name": "stdout",
          "text": [
            "Claimed: Lionel Messi, Predicted: Lionel Messi, Confidence: 0.68\n"
          ]
        },
        {
          "output_type": "stream",
          "name": "stderr",
          "text": [
            "INFO:werkzeug:127.0.0.1 - - [15/Sep/2025 19:44:45] \"POST /verify HTTP/1.1\" 200 -\n"
          ]
        },
        {
          "output_type": "stream",
          "name": "stdout",
          "text": [
            "Claimed: Lionel Messi, Predicted: Lionel Messi, Confidence: 0.68\n"
          ]
        },
        {
          "output_type": "stream",
          "name": "stderr",
          "text": [
            "INFO:werkzeug:127.0.0.1 - - [15/Sep/2025 19:49:14] \"POST /verify HTTP/1.1\" 200 -\n"
          ]
        },
        {
          "output_type": "stream",
          "name": "stdout",
          "text": [
            "Claimed: Lionel Messi, Predicted: Lionel Messi, Confidence: 0.68\n"
          ]
        },
        {
          "output_type": "stream",
          "name": "stderr",
          "text": [
            "INFO:werkzeug:127.0.0.1 - - [15/Sep/2025 19:53:21] \"POST /verify HTTP/1.1\" 200 -\n"
          ]
        },
        {
          "output_type": "stream",
          "name": "stdout",
          "text": [
            "Claimed: elizabeth olsen, Predicted: Millie Bobby Brown, Confidence: 0.49\n"
          ]
        },
        {
          "output_type": "stream",
          "name": "stderr",
          "text": [
            "INFO:werkzeug:127.0.0.1 - - [15/Sep/2025 19:54:01] \"POST /verify HTTP/1.1\" 200 -\n"
          ]
        },
        {
          "output_type": "stream",
          "name": "stdout",
          "text": [
            "Claimed: elizabeth olsen, Predicted: elizabeth olsen, Confidence: 0.82\n"
          ]
        },
        {
          "output_type": "stream",
          "name": "stderr",
          "text": [
            "INFO:werkzeug:127.0.0.1 - - [15/Sep/2025 19:55:14] \"POST /verify HTTP/1.1\" 200 -\n"
          ]
        },
        {
          "output_type": "stream",
          "name": "stdout",
          "text": [
            "Claimed: elizabeth olsen, Predicted: elon musk, Confidence: 0.70\n"
          ]
        },
        {
          "output_type": "stream",
          "name": "stderr",
          "text": [
            "INFO:werkzeug:127.0.0.1 - - [15/Sep/2025 19:55:43] \"POST /verify HTTP/1.1\" 200 -\n"
          ]
        },
        {
          "output_type": "stream",
          "name": "stdout",
          "text": [
            "Claimed: elizabeth olsen, Predicted: elon musk, Confidence: 0.74\n"
          ]
        },
        {
          "output_type": "stream",
          "name": "stderr",
          "text": [
            "INFO:werkzeug:127.0.0.1 - - [15/Sep/2025 19:55:59] \"POST /verify HTTP/1.1\" 200 -\n"
          ]
        },
        {
          "output_type": "stream",
          "name": "stdout",
          "text": [
            "Claimed: elizabeth olsen, Predicted: elon musk, Confidence: 0.74\n"
          ]
        },
        {
          "output_type": "stream",
          "name": "stderr",
          "text": [
            "INFO:werkzeug:127.0.0.1 - - [15/Sep/2025 19:56:48] \"POST /verify HTTP/1.1\" 200 -\n"
          ]
        },
        {
          "output_type": "stream",
          "name": "stdout",
          "text": [
            "Claimed: elizabeth olsen, Predicted: elon musk, Confidence: 0.74\n"
          ]
        },
        {
          "output_type": "stream",
          "name": "stderr",
          "text": [
            "INFO:werkzeug:127.0.0.1 - - [15/Sep/2025 19:56:54] \"POST /verify HTTP/1.1\" 200 -\n"
          ]
        },
        {
          "output_type": "stream",
          "name": "stdout",
          "text": [
            "Claimed: elizabeth olsen, Predicted: Unknown, Confidence: 0.27\n"
          ]
        },
        {
          "output_type": "stream",
          "name": "stderr",
          "text": [
            "INFO:werkzeug:127.0.0.1 - - [15/Sep/2025 19:57:10] \"POST /verify HTTP/1.1\" 200 -\n"
          ]
        },
        {
          "output_type": "stream",
          "name": "stdout",
          "text": [
            "Claimed: elizabeth olsen, Predicted: Unknown, Confidence: 0.27\n"
          ]
        },
        {
          "output_type": "stream",
          "name": "stderr",
          "text": [
            "INFO:werkzeug:127.0.0.1 - - [15/Sep/2025 19:58:07] \"POST /verify HTTP/1.1\" 200 -\n"
          ]
        },
        {
          "output_type": "stream",
          "name": "stdout",
          "text": [
            "Claimed: elizabeth olsen, Predicted: Unknown, Confidence: 0.24\n"
          ]
        },
        {
          "output_type": "stream",
          "name": "stderr",
          "text": [
            "INFO:werkzeug:127.0.0.1 - - [15/Sep/2025 19:59:13] \"POST /verify HTTP/1.1\" 200 -\n"
          ]
        },
        {
          "output_type": "stream",
          "name": "stdout",
          "text": [
            "Claimed: elizabeth olsen, Predicted: Unknown, Confidence: 0.24\n"
          ]
        },
        {
          "output_type": "stream",
          "name": "stderr",
          "text": [
            "INFO:werkzeug:127.0.0.1 - - [15/Sep/2025 19:59:25] \"POST /verify HTTP/1.1\" 200 -\n"
          ]
        },
        {
          "output_type": "stream",
          "name": "stdout",
          "text": [
            "Claimed: elizabeth olsen, Predicted: Mark Zuckerberg, Confidence: 0.73\n"
          ]
        },
        {
          "output_type": "stream",
          "name": "stderr",
          "text": [
            "INFO:werkzeug:127.0.0.1 - - [15/Sep/2025 20:01:01] \"POST /verify HTTP/1.1\" 200 -\n"
          ]
        },
        {
          "output_type": "stream",
          "name": "stdout",
          "text": [
            "Claimed: Cristiano Ronaldo, Predicted: Cristiano Ronaldo, Confidence: 0.60\n"
          ]
        },
        {
          "output_type": "stream",
          "name": "stderr",
          "text": [
            "INFO:werkzeug:127.0.0.1 - - [15/Sep/2025 20:01:41] \"POST /verify HTTP/1.1\" 200 -\n"
          ]
        },
        {
          "output_type": "stream",
          "name": "stdout",
          "text": [
            "Claimed: Cristiano Ronaldo, Predicted: Cristiano Ronaldo, Confidence: 0.57\n"
          ]
        },
        {
          "output_type": "stream",
          "name": "stderr",
          "text": [
            "INFO:werkzeug:127.0.0.1 - - [15/Sep/2025 20:01:58] \"POST /verify HTTP/1.1\" 200 -\n"
          ]
        },
        {
          "output_type": "stream",
          "name": "stdout",
          "text": [
            "Claimed: Cristiano Ronaldo, Predicted: Cristiano Ronaldo, Confidence: 0.59\n"
          ]
        },
        {
          "output_type": "stream",
          "name": "stderr",
          "text": [
            "INFO:werkzeug:127.0.0.1 - - [15/Sep/2025 20:02:10] \"POST /verify HTTP/1.1\" 200 -\n"
          ]
        },
        {
          "output_type": "stream",
          "name": "stdout",
          "text": [
            "Claimed: Cristiano Ronaldo, Predicted: Cristiano Ronaldo, Confidence: 0.59\n"
          ]
        },
        {
          "output_type": "stream",
          "name": "stderr",
          "text": [
            "INFO:werkzeug:127.0.0.1 - - [15/Sep/2025 20:02:17] \"POST /verify HTTP/1.1\" 200 -\n"
          ]
        },
        {
          "output_type": "stream",
          "name": "stdout",
          "text": [
            "Claimed: Cristiano Ronaldo, Predicted: Cristiano Ronaldo, Confidence: 0.33\n"
          ]
        },
        {
          "output_type": "stream",
          "name": "stderr",
          "text": [
            "INFO:werkzeug:127.0.0.1 - - [15/Sep/2025 20:02:29] \"POST /verify HTTP/1.1\" 200 -\n"
          ]
        },
        {
          "output_type": "stream",
          "name": "stdout",
          "text": [
            "Claimed: Cristiano Ronaldo, Predicted: Cristiano Ronaldo, Confidence: 0.33\n"
          ]
        },
        {
          "output_type": "stream",
          "name": "stderr",
          "text": [
            "INFO:werkzeug:127.0.0.1 - - [15/Sep/2025 20:02:39] \"POST /verify HTTP/1.1\" 200 -\n"
          ]
        },
        {
          "output_type": "stream",
          "name": "stdout",
          "text": [
            "Claimed: Cristiano Ronaldo, Predicted: grant gustin, Confidence: 0.38\n"
          ]
        },
        {
          "output_type": "stream",
          "name": "stderr",
          "text": [
            "INFO:werkzeug:127.0.0.1 - - [15/Sep/2025 20:02:51] \"POST /verify HTTP/1.1\" 200 -\n"
          ]
        },
        {
          "output_type": "stream",
          "name": "stdout",
          "text": [
            "Claimed: Cristiano Ronaldo, Predicted: grant gustin, Confidence: 0.38\n"
          ]
        },
        {
          "output_type": "stream",
          "name": "stderr",
          "text": [
            "INFO:werkzeug:127.0.0.1 - - [15/Sep/2025 20:03:11] \"POST /verify HTTP/1.1\" 200 -\n"
          ]
        },
        {
          "output_type": "stream",
          "name": "stdout",
          "text": [
            "Claimed: Cristiano Ronaldo, Predicted: grant gustin, Confidence: 0.68\n"
          ]
        },
        {
          "output_type": "stream",
          "name": "stderr",
          "text": [
            "INFO:werkzeug:127.0.0.1 - - [15/Sep/2025 20:03:22] \"POST /verify HTTP/1.1\" 200 -\n"
          ]
        },
        {
          "output_type": "stream",
          "name": "stdout",
          "text": [
            "Claimed: Cristiano Ronaldo, Predicted: grant gustin, Confidence: 0.68\n"
          ]
        },
        {
          "output_type": "stream",
          "name": "stderr",
          "text": [
            "INFO:werkzeug:127.0.0.1 - - [15/Sep/2025 20:04:06] \"POST /verify HTTP/1.1\" 200 -\n"
          ]
        },
        {
          "output_type": "stream",
          "name": "stdout",
          "text": [
            "Claimed: Cristiano Ronaldo, Predicted: barbara palvin, Confidence: 0.72\n"
          ]
        },
        {
          "output_type": "stream",
          "name": "stderr",
          "text": [
            "INFO:werkzeug:127.0.0.1 - - [15/Sep/2025 20:04:46] \"POST /verify HTTP/1.1\" 200 -\n"
          ]
        },
        {
          "output_type": "stream",
          "name": "stdout",
          "text": [
            "Claimed: Cristiano Ronaldo, Predicted: Bill Gates, Confidence: 0.36\n"
          ]
        },
        {
          "output_type": "stream",
          "name": "stderr",
          "text": [
            "INFO:werkzeug:127.0.0.1 - - [15/Sep/2025 20:06:08] \"POST /verify HTTP/1.1\" 200 -\n"
          ]
        },
        {
          "output_type": "stream",
          "name": "stdout",
          "text": [
            "Claimed: Cristiano Ronaldo, Predicted: Unknown, Confidence: 0.25\n"
          ]
        },
        {
          "output_type": "stream",
          "name": "stderr",
          "text": [
            "INFO:werkzeug:127.0.0.1 - - [15/Sep/2025 20:06:41] \"POST /verify HTTP/1.1\" 200 -\n"
          ]
        },
        {
          "output_type": "stream",
          "name": "stdout",
          "text": [
            "Claimed: Cristiano Ronaldo, Predicted: Unknown, Confidence: 0.25\n"
          ]
        },
        {
          "output_type": "stream",
          "name": "stderr",
          "text": [
            "INFO:werkzeug:127.0.0.1 - - [15/Sep/2025 20:08:03] \"POST /verify HTTP/1.1\" 200 -\n"
          ]
        },
        {
          "output_type": "stream",
          "name": "stdout",
          "text": [
            "Claimed: Cristiano Ronaldo, Predicted: Dwayne Johnson, Confidence: 0.45\n"
          ]
        },
        {
          "output_type": "stream",
          "name": "stderr",
          "text": [
            "INFO:werkzeug:127.0.0.1 - - [15/Sep/2025 20:08:17] \"POST /verify HTTP/1.1\" 200 -\n"
          ]
        },
        {
          "output_type": "stream",
          "name": "stdout",
          "text": [
            "Claimed: Cristiano Ronaldo, Predicted: Dwayne Johnson, Confidence: 0.45\n"
          ]
        },
        {
          "output_type": "stream",
          "name": "stderr",
          "text": [
            "INFO:werkzeug:127.0.0.1 - - [15/Sep/2025 20:08:32] \"POST /verify HTTP/1.1\" 200 -\n"
          ]
        },
        {
          "output_type": "stream",
          "name": "stdout",
          "text": [
            "Claimed: Cristiano Ronaldo, Predicted: Johnny Depp, Confidence: 0.53\n"
          ]
        },
        {
          "output_type": "stream",
          "name": "stderr",
          "text": [
            "INFO:werkzeug:127.0.0.1 - - [15/Sep/2025 20:08:42] \"POST /verify HTTP/1.1\" 200 -\n"
          ]
        },
        {
          "output_type": "stream",
          "name": "stdout",
          "text": [
            "Claimed: Cristiano Ronaldo, Predicted: Johnny Depp, Confidence: 0.53\n"
          ]
        },
        {
          "output_type": "stream",
          "name": "stderr",
          "text": [
            "INFO:werkzeug:127.0.0.1 - - [15/Sep/2025 20:09:46] \"POST /verify HTTP/1.1\" 200 -\n"
          ]
        },
        {
          "output_type": "stream",
          "name": "stdout",
          "text": [
            "Claimed: Johnny Depp, Predicted: Johnny Depp, Confidence: 0.53\n"
          ]
        },
        {
          "output_type": "stream",
          "name": "stderr",
          "text": [
            "INFO:werkzeug:127.0.0.1 - - [15/Sep/2025 20:10:23] \"POST /verify HTTP/1.1\" 200 -\n"
          ]
        },
        {
          "output_type": "stream",
          "name": "stdout",
          "text": [
            "Claimed: Johnny Depp, Predicted: Johnny Depp, Confidence: 0.53\n"
          ]
        },
        {
          "output_type": "stream",
          "name": "stderr",
          "text": [
            "INFO:werkzeug:127.0.0.1 - - [15/Sep/2025 20:12:02] \"POST /verify HTTP/1.1\" 200 -\n"
          ]
        },
        {
          "output_type": "stream",
          "name": "stdout",
          "text": [
            "Claimed: Johnny Depp, Predicted: Tom Holland, Confidence: 0.55\n"
          ]
        },
        {
          "output_type": "stream",
          "name": "stderr",
          "text": [
            "INFO:werkzeug:127.0.0.1 - - [15/Sep/2025 20:13:36] \"POST /verify HTTP/1.1\" 200 -\n"
          ]
        },
        {
          "output_type": "stream",
          "name": "stdout",
          "text": [
            "Claimed: Johnny Depp, Predicted: Brenton Thwaites, Confidence: 0.57\n"
          ]
        },
        {
          "output_type": "stream",
          "name": "stderr",
          "text": [
            "INFO:werkzeug:127.0.0.1 - - [15/Sep/2025 20:14:58] \"POST /verify HTTP/1.1\" 200 -\n"
          ]
        },
        {
          "output_type": "stream",
          "name": "stdout",
          "text": [
            "Claimed: Johnny Depp, Predicted: Dominic Purcell, Confidence: 0.59\n"
          ]
        },
        {
          "output_type": "stream",
          "name": "stderr",
          "text": [
            "INFO:werkzeug:127.0.0.1 - - [15/Sep/2025 20:15:14] \"POST /verify HTTP/1.1\" 200 -\n"
          ]
        },
        {
          "output_type": "stream",
          "name": "stdout",
          "text": [
            "Claimed: Johnny Depp, Predicted: Dominic Purcell, Confidence: 0.63\n"
          ]
        },
        {
          "output_type": "stream",
          "name": "stderr",
          "text": [
            "INFO:werkzeug:127.0.0.1 - - [15/Sep/2025 20:15:24] \"POST /verify HTTP/1.1\" 200 -\n"
          ]
        },
        {
          "output_type": "stream",
          "name": "stdout",
          "text": [
            "Claimed: Johnny Depp, Predicted: Dominic Purcell, Confidence: 0.63\n"
          ]
        },
        {
          "output_type": "stream",
          "name": "stderr",
          "text": [
            "INFO:werkzeug:127.0.0.1 - - [15/Sep/2025 20:15:35] \"POST /verify HTTP/1.1\" 200 -\n"
          ]
        },
        {
          "output_type": "stream",
          "name": "stdout",
          "text": [
            "Claimed: Johnny Depp, Predicted: Dominic Purcell, Confidence: 0.55\n"
          ]
        },
        {
          "output_type": "stream",
          "name": "stderr",
          "text": [
            "INFO:werkzeug:127.0.0.1 - - [15/Sep/2025 20:15:54] \"POST /verify HTTP/1.1\" 200 -\n"
          ]
        },
        {
          "output_type": "stream",
          "name": "stdout",
          "text": [
            "Claimed: Johnny Depp, Predicted: Dominic Purcell, Confidence: 0.71\n"
          ]
        },
        {
          "output_type": "stream",
          "name": "stderr",
          "text": [
            "INFO:werkzeug:127.0.0.1 - - [15/Sep/2025 20:16:23] \"POST /verify HTTP/1.1\" 200 -\n"
          ]
        },
        {
          "output_type": "stream",
          "name": "stdout",
          "text": [
            "Claimed: Johnny Depp, Predicted: tom ellis, Confidence: 0.61\n"
          ]
        },
        {
          "output_type": "stream",
          "name": "stderr",
          "text": [
            "INFO:werkzeug:127.0.0.1 - - [15/Sep/2025 20:21:06] \"GET / HTTP/1.1\" 200 -\n",
            "INFO:werkzeug:127.0.0.1 - - [15/Sep/2025 20:21:06] \"GET / HTTP/1.1\" 200 -\n",
            "INFO:werkzeug:127.0.0.1 - - [15/Sep/2025 20:21:20] \"POST /verify HTTP/1.1\" 200 -\n"
          ]
        },
        {
          "output_type": "stream",
          "name": "stdout",
          "text": [
            "Claimed: Alex Lawther, Predicted: elon musk, Confidence: 0.52\n"
          ]
        },
        {
          "output_type": "stream",
          "name": "stderr",
          "text": [
            "INFO:werkzeug:127.0.0.1 - - [15/Sep/2025 20:22:14] \"POST /verify HTTP/1.1\" 200 -\n"
          ]
        },
        {
          "output_type": "stream",
          "name": "stdout",
          "text": [
            "Claimed: Alex Lawther, Predicted: elon musk, Confidence: 0.56\n"
          ]
        },
        {
          "output_type": "stream",
          "name": "stderr",
          "text": [
            "INFO:werkzeug:127.0.0.1 - - [15/Sep/2025 20:22:41] \"POST /verify HTTP/1.1\" 200 -\n"
          ]
        },
        {
          "output_type": "stream",
          "name": "stdout",
          "text": [
            "Claimed: Alex Lawther, Predicted: elon musk, Confidence: 0.52\n"
          ]
        },
        {
          "output_type": "stream",
          "name": "stderr",
          "text": [
            "INFO:werkzeug:127.0.0.1 - - [15/Sep/2025 20:22:41] \"POST /verify HTTP/1.1\" 200 -\n"
          ]
        },
        {
          "output_type": "stream",
          "name": "stdout",
          "text": [
            "Claimed: Alex Lawther, Predicted: elon musk, Confidence: 0.56\n"
          ]
        },
        {
          "output_type": "stream",
          "name": "stderr",
          "text": [
            "INFO:werkzeug:127.0.0.1 - - [15/Sep/2025 20:23:36] \"POST /verify HTTP/1.1\" 200 -\n"
          ]
        },
        {
          "output_type": "stream",
          "name": "stdout",
          "text": [
            "Claimed: Alex Lawther, Predicted: Tom Holland, Confidence: 0.64\n"
          ]
        },
        {
          "output_type": "stream",
          "name": "stderr",
          "text": [
            "INFO:werkzeug:127.0.0.1 - - [15/Sep/2025 20:23:54] \"POST /verify HTTP/1.1\" 200 -\n"
          ]
        },
        {
          "output_type": "stream",
          "name": "stdout",
          "text": [
            "Claimed: Alex Lawther, Predicted: Tom Holland, Confidence: 0.64\n"
          ]
        },
        {
          "output_type": "stream",
          "name": "stderr",
          "text": [
            "INFO:werkzeug:127.0.0.1 - - [15/Sep/2025 20:24:24] \"POST /verify HTTP/1.1\" 200 -\n"
          ]
        },
        {
          "output_type": "stream",
          "name": "stdout",
          "text": [
            "Claimed: Alex Lawther, Predicted: Dwayne Johnson, Confidence: 0.35\n"
          ]
        },
        {
          "output_type": "stream",
          "name": "stderr",
          "text": [
            "INFO:werkzeug:127.0.0.1 - - [15/Sep/2025 20:26:54] \"POST /verify HTTP/1.1\" 200 -\n"
          ]
        },
        {
          "output_type": "stream",
          "name": "stdout",
          "text": [
            "Claimed: Alex Lawther, Predicted: Unknown, Confidence: 0.24\n"
          ]
        },
        {
          "output_type": "stream",
          "name": "stderr",
          "text": [
            "INFO:werkzeug:127.0.0.1 - - [15/Sep/2025 20:27:24] \"POST /verify HTTP/1.1\" 200 -\n"
          ]
        },
        {
          "output_type": "stream",
          "name": "stdout",
          "text": [
            "Claimed: Alex Lawther, Predicted: Unknown, Confidence: 0.24\n"
          ]
        },
        {
          "output_type": "stream",
          "name": "stderr",
          "text": [
            "INFO:werkzeug:127.0.0.1 - - [15/Sep/2025 20:27:33] \"POST /verify HTTP/1.1\" 200 -\n"
          ]
        },
        {
          "output_type": "stream",
          "name": "stdout",
          "text": [
            "Claimed: Alex Lawther, Predicted: Unknown, Confidence: 0.25\n"
          ]
        }
      ]
    },
    {
      "cell_type": "code",
      "metadata": {
        "colab": {
          "base_uri": "https://localhost:8080/"
        },
        "id": "2673652a",
        "outputId": "52840894-2f7a-4aaf-ec13-7d96def5eea2"
      },
      "source": [
        "# if we get erorr bec of .h5 files from deepface, this can fix it\n",
        "import os\n",
        "\n",
        "# Define the URLs for the weight files\n",
        "arcface_url = \"https://github.com/serengil/deepface_models/releases/download/v1.0/arcface_weights.h5\"\n",
        "retinaface_url = \"https://github.com/serengil/deepface_models/releases/download/v1.0/retinaface.h5\"\n",
        "\n",
        "# Define the target directory for DeepFace weights\n",
        "deepface_weights_dir = os.path.join(os.path.expanduser(\"~\"), \".deepface\", \"weights\")\n",
        "os.makedirs(deepface_weights_dir, exist_ok=True)\n",
        "\n",
        "# Define the paths in /content/ where we will download the files\n",
        "arcface_content_path = \"/content/arcface_weights.h5\"\n",
        "retinaface_content_path = \"/content/retinaface.h5\"\n",
        "\n",
        "print(\"--- Manually Downloading and Copying Weight Files ---\")\n",
        "\n",
        "# Step 1: Download the files to /content/\n",
        "print(f\"Downloading {os.path.basename(arcface_url)}...\")\n",
        "!wget -q -O \"{arcface_content_path}\" \"{arcface_url}\"\n",
        "print(f\"Downloaded {os.path.basename(arcface_url)}\")\n",
        "\n",
        "print(f\"Downloading {os.path.basename(retinaface_url)}...\")\n",
        "!wget -q -O \"{retinaface_content_path}\" \"{retinaface_url}\"\n",
        "print(f\"Downloaded {os.path.basename(retinaface_url)}\")\n",
        "\n",
        "# Step 2: Delete existing weights in DeepFace directory\n",
        "print(\"Deleting existing weights in DeepFace directory...\")\n",
        "arcface_deepface_path = os.path.join(deepface_weights_dir, \"arcface_weights.h5\")\n",
        "retinaface_deepface_path = os.path.join(deepface_weights_dir, \"retinaface.h5\")\n",
        "\n",
        "if os.path.exists(arcface_deepface_path):\n",
        "    os.remove(arcface_deepface_path)\n",
        "    print(f\"Deleted: {arcface_deepface_path}\")\n",
        "if os.path.exists(retinaface_deepface_path):\n",
        "    os.remove(retinaface_deepface_path)\n",
        "    print(f\"Deleted: {retinaface_deepface_path}\")\n",
        "\n",
        "# Step 3: Copy the newly downloaded files to the DeepFace directory\n",
        "print(f\"Copying downloaded weights to {deepface_weights_dir}...\")\n",
        "!cp \"{arcface_content_path}\" \"{deepface_weights_dir}\"\n",
        "print(f\"Copied {os.path.basename(arcface_content_path)}\")\n",
        "\n",
        "!cp \"{retinaface_content_path}\" \"{deepface_weights_dir}\"\n",
        "print(f\"Copied {os.path.basename(retinaface_content_path)}\")\n",
        "\n",
        "print(\"\\n✅ Weight files downloaded and copied. You can now re-run the application launch cell.\")"
      ],
      "execution_count": 3,
      "outputs": [
        {
          "output_type": "stream",
          "name": "stdout",
          "text": [
            "--- Manually Downloading and Copying Weight Files ---\n",
            "Downloading arcface_weights.h5...\n",
            "Downloaded arcface_weights.h5\n",
            "Downloading retinaface.h5...\n",
            "Downloaded retinaface.h5\n",
            "Deleting existing weights in DeepFace directory...\n",
            "Deleted: /root/.deepface/weights/arcface_weights.h5\n",
            "Deleted: /root/.deepface/weights/retinaface.h5\n",
            "Copying downloaded weights to /root/.deepface/weights...\n",
            "Copied arcface_weights.h5\n",
            "Copied retinaface.h5\n",
            "\n",
            "✅ Weight files downloaded and copied. You can now re-run the application launch cell.\n"
          ]
        }
      ]
    }
  ]
}